{
 "cells": [
  {
   "cell_type": "code",
   "execution_count": 1,
   "id": "5101e4bf-cc6b-44c6-b680-2d518b28e476",
   "metadata": {},
   "outputs": [],
   "source": [
    "import pandas as pd\n",
    "import numpy as np"
   ]
  },
  {
   "cell_type": "code",
   "execution_count": 2,
   "id": "b2be9297-aa42-4aab-97c2-149192f87f1d",
   "metadata": {},
   "outputs": [],
   "source": [
    "df = pd.read_csv('Loan.csv')"
   ]
  },
  {
   "cell_type": "code",
   "execution_count": 3,
   "id": "52fcd1ad-a17d-4a96-b656-d9ecf14ef364",
   "metadata": {},
   "outputs": [
    {
     "data": {
      "text/html": [
       "<div>\n",
       "<style scoped>\n",
       "    .dataframe tbody tr th:only-of-type {\n",
       "        vertical-align: middle;\n",
       "    }\n",
       "\n",
       "    .dataframe tbody tr th {\n",
       "        vertical-align: top;\n",
       "    }\n",
       "\n",
       "    .dataframe thead th {\n",
       "        text-align: right;\n",
       "    }\n",
       "</style>\n",
       "<table border=\"1\" class=\"dataframe\">\n",
       "  <thead>\n",
       "    <tr style=\"text-align: right;\">\n",
       "      <th></th>\n",
       "      <th>initial payment</th>\n",
       "      <th>Last Payment</th>\n",
       "      <th>Credit score</th>\n",
       "      <th>House no</th>\n",
       "      <th>Target</th>\n",
       "    </tr>\n",
       "  </thead>\n",
       "  <tbody>\n",
       "    <tr>\n",
       "      <th>0</th>\n",
       "      <td>201</td>\n",
       "      <td>10018</td>\n",
       "      <td>250</td>\n",
       "      <td>3046</td>\n",
       "      <td>yes</td>\n",
       "    </tr>\n",
       "    <tr>\n",
       "      <th>1</th>\n",
       "      <td>205</td>\n",
       "      <td>10016</td>\n",
       "      <td>395</td>\n",
       "      <td>3044</td>\n",
       "      <td>yes</td>\n",
       "    </tr>\n",
       "    <tr>\n",
       "      <th>2</th>\n",
       "      <td>257</td>\n",
       "      <td>10129</td>\n",
       "      <td>109</td>\n",
       "      <td>3251</td>\n",
       "      <td>yes</td>\n",
       "    </tr>\n",
       "    <tr>\n",
       "      <th>3</th>\n",
       "      <td>246</td>\n",
       "      <td>10064</td>\n",
       "      <td>324</td>\n",
       "      <td>3137</td>\n",
       "      <td>yes</td>\n",
       "    </tr>\n",
       "    <tr>\n",
       "      <th>4</th>\n",
       "      <td>117</td>\n",
       "      <td>10115</td>\n",
       "      <td>496</td>\n",
       "      <td>3094</td>\n",
       "      <td>yes</td>\n",
       "    </tr>\n",
       "  </tbody>\n",
       "</table>\n",
       "</div>"
      ],
      "text/plain": [
       "   initial payment   Last Payment  Credit score  House no Target\n",
       "0               201         10018           250      3046    yes\n",
       "1               205         10016           395      3044    yes\n",
       "2               257         10129           109      3251    yes\n",
       "3               246         10064           324      3137    yes\n",
       "4               117         10115           496      3094    yes"
      ]
     },
     "execution_count": 3,
     "metadata": {},
     "output_type": "execute_result"
    }
   ],
   "source": [
    "df.head()"
   ]
  },
  {
   "cell_type": "code",
   "execution_count": 4,
   "id": "c50aef19-c557-442e-8852-09290e631eaa",
   "metadata": {},
   "outputs": [
    {
     "data": {
      "text/plain": [
       "(     Last Payment  Credit score  House no\n",
       " 0           10018           250      3046\n",
       " 1           10016           395      3044\n",
       " 2           10129           109      3251\n",
       " 3           10064           324      3137\n",
       " 4           10115           496      3094\n",
       " ..            ...           ...       ...\n",
       " 995         14914           523      4683\n",
       " 996         14423           927      4838\n",
       " 997         14872           613      4760\n",
       " 998         14926           897      4572\n",
       " 999         14798           834      4937\n",
       " \n",
       " [1000 rows x 3 columns],\n",
       "     Target\n",
       " 0      yes\n",
       " 1      yes\n",
       " 2      yes\n",
       " 3      yes\n",
       " 4      yes\n",
       " ..     ...\n",
       " 995     No\n",
       " 996     No\n",
       " 997     No\n",
       " 998     No\n",
       " 999     No\n",
       " \n",
       " [1000 rows x 1 columns])"
      ]
     },
     "execution_count": 4,
     "metadata": {},
     "output_type": "execute_result"
    }
   ],
   "source": [
    "#split dataset in features and target variable\n",
    "x = df[['Last Payment','Credit score','House no']]\n",
    "y = df[['Target']]\n",
    "x,y"
   ]
  },
  {
   "cell_type": "code",
   "execution_count": 5,
   "id": "3dc667ca-f5fa-4cf4-9ab8-252244ebcd5a",
   "metadata": {},
   "outputs": [
    {
     "data": {
      "text/plain": [
       "(1000, 5)"
      ]
     },
     "execution_count": 5,
     "metadata": {},
     "output_type": "execute_result"
    }
   ],
   "source": [
    "df.shape"
   ]
  },
  {
   "cell_type": "code",
   "execution_count": 6,
   "id": "ac0c9632-8cc5-4365-90ce-340e3ee0cddf",
   "metadata": {},
   "outputs": [],
   "source": [
    "from sklearn.model_selection import train_test_split"
   ]
  },
  {
   "cell_type": "code",
   "execution_count": 7,
   "id": "b34924ba-a192-48a3-9848-377a7e1afb03",
   "metadata": {},
   "outputs": [],
   "source": [
    "# Split dataset into training set and test set\n",
    "x_train, x_test, y_train, y_test = train_test_split(x, y, test_size = 0.30, random_state = 50)"
   ]
  },
  {
   "cell_type": "code",
   "execution_count": 8,
   "id": "bfcde933-136a-4cb4-afb0-7b0b5b9231d5",
   "metadata": {},
   "outputs": [],
   "source": [
    "from sklearn.tree import DecisionTreeClassifier"
   ]
  },
  {
   "cell_type": "code",
   "execution_count": 9,
   "id": "44137537-cce8-48fd-95c7-d28761934e89",
   "metadata": {},
   "outputs": [],
   "source": [
    "# Create Decision Tree classifer object\n",
    "clf = DecisionTreeClassifier()"
   ]
  },
  {
   "cell_type": "code",
   "execution_count": 10,
   "id": "bbc01954-65c8-48fd-a3a9-0a8f720df35a",
   "metadata": {},
   "outputs": [],
   "source": [
    "# Train Decision Tree Classifer\n",
    "clf = clf.fit(x_train,y_train)"
   ]
  },
  {
   "cell_type": "code",
   "execution_count": 11,
   "id": "b4c57fec-3c1d-40fc-a5e3-e16fd88879ed",
   "metadata": {},
   "outputs": [
    {
     "data": {
      "text/plain": [
       "array(['yes', 'yes', 'No', 'yes', 'No', 'No', 'No', 'No', 'No', 'No',\n",
       "       'No', 'No', 'No', 'yes', 'yes', 'yes', 'No', 'yes', 'No', 'yes',\n",
       "       'No', 'yes', 'No', 'No', 'No', 'No', 'No', 'yes', 'No', 'yes',\n",
       "       'No', 'No', 'No', 'No', 'No', 'yes', 'yes', 'No', 'No', 'yes',\n",
       "       'yes', 'No', 'No', 'yes', 'No', 'No', 'yes', 'No', 'No', 'yes',\n",
       "       'No', 'No', 'No', 'No', 'yes', 'No', 'No', 'yes', 'No', 'No', 'No',\n",
       "       'No', 'No', 'yes', 'yes', 'No', 'yes', 'No', 'yes', 'yes', 'yes',\n",
       "       'No', 'yes', 'yes', 'No', 'No', 'No', 'yes', 'No', 'No', 'No',\n",
       "       'yes', 'yes', 'No', 'No', 'No', 'No', 'yes', 'yes', 'No', 'No',\n",
       "       'yes', 'yes', 'No', 'yes', 'No', 'yes', 'No', 'yes', 'No', 'No',\n",
       "       'yes', 'yes', 'No', 'yes', 'No', 'No', 'No', 'No', 'No', 'No',\n",
       "       'No', 'No', 'No', 'No', 'No', 'yes', 'No', 'No', 'No', 'yes', 'No',\n",
       "       'yes', 'yes', 'No', 'No', 'yes', 'yes', 'yes', 'yes', 'yes', 'yes',\n",
       "       'yes', 'No', 'yes', 'yes', 'yes', 'No', 'yes', 'No', 'yes', 'yes',\n",
       "       'No', 'yes', 'yes', 'yes', 'yes', 'yes', 'yes', 'yes', 'yes',\n",
       "       'yes', 'yes', 'No', 'yes', 'yes', 'yes', 'No', 'No', 'yes', 'yes',\n",
       "       'No', 'yes', 'yes', 'No', 'yes', 'No', 'No', 'No', 'No', 'No',\n",
       "       'yes', 'yes', 'No', 'No', 'yes', 'yes', 'yes', 'No', 'No', 'yes',\n",
       "       'No', 'No', 'No', 'No', 'yes', 'No', 'yes', 'yes', 'No', 'No',\n",
       "       'No', 'yes', 'No', 'yes', 'yes', 'No', 'yes', 'yes', 'yes', 'No',\n",
       "       'No', 'yes', 'yes', 'No', 'No', 'yes', 'No', 'No', 'yes', 'No',\n",
       "       'No', 'No', 'No', 'No', 'yes', 'yes', 'No', 'No', 'yes', 'yes',\n",
       "       'yes', 'yes', 'yes', 'yes', 'yes', 'No', 'No', 'No', 'No', 'yes',\n",
       "       'yes', 'No', 'No', 'yes', 'No', 'No', 'yes', 'yes', 'No', 'yes',\n",
       "       'yes', 'yes', 'yes', 'No', 'No', 'No', 'yes', 'No', 'yes', 'No',\n",
       "       'yes', 'yes', 'yes', 'yes', 'No', 'No', 'yes', 'No', 'yes', 'No',\n",
       "       'yes', 'yes', 'yes', 'yes', 'yes', 'yes', 'No', 'No', 'No', 'No',\n",
       "       'yes', 'No', 'yes', 'yes', 'No', 'No', 'No', 'No', 'yes', 'yes',\n",
       "       'yes', 'No', 'No', 'No', 'No', 'No', 'No', 'yes', 'No', 'yes',\n",
       "       'No', 'No', 'yes', 'yes', 'No', 'yes', 'yes', 'yes', 'yes'],\n",
       "      dtype=object)"
      ]
     },
     "execution_count": 11,
     "metadata": {},
     "output_type": "execute_result"
    }
   ],
   "source": [
    "#Predict the response for test dataset\n",
    "y_pred = clf.predict(x_test)\n",
    "y_pred"
   ]
  },
  {
   "cell_type": "code",
   "execution_count": 12,
   "id": "6813ea1a-7fdc-421f-a397-ffb5923f0844",
   "metadata": {},
   "outputs": [],
   "source": [
    "#Import scikit-learn metrics module for accuracy calculation\n",
    "from sklearn import metrics"
   ]
  },
  {
   "cell_type": "code",
   "execution_count": 13,
   "id": "625932b9-4745-4777-898d-ec75059aea86",
   "metadata": {},
   "outputs": [
    {
     "data": {
      "text/plain": [
       "94.33333333333334"
      ]
     },
     "execution_count": 13,
     "metadata": {},
     "output_type": "execute_result"
    }
   ],
   "source": [
    "# Model Accuracy, how often is the classifier correct?\n",
    "Accuracy=(metrics.accuracy_score(y_test, y_pred)*100)\n",
    "Accuracy                               "
   ]
  }
 ],
 "metadata": {
  "kernelspec": {
   "display_name": "Python 3 (ipykernel)",
   "language": "python",
   "name": "python3"
  },
  "language_info": {
   "codemirror_mode": {
    "name": "ipython",
    "version": 3
   },
   "file_extension": ".py",
   "mimetype": "text/x-python",
   "name": "python",
   "nbconvert_exporter": "python",
   "pygments_lexer": "ipython3",
   "version": "3.11.3"
  }
 },
 "nbformat": 4,
 "nbformat_minor": 5
}
